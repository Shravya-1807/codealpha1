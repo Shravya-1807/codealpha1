{
 "cells": [
  {
   "cell_type": "code",
   "execution_count": 2,
   "id": "7830246b-f163-4f07-85b5-fb47fa05b9a2",
   "metadata": {},
   "outputs": [
    {
     "name": "stdout",
     "output_type": "stream",
     "text": [
      "Estimated Credit Score: 674\n"
     ]
    }
   ],
   "source": [
    "def calculate_credit_score(payment_history, credit_utilization, credit_history_length, credit_mix, new_credit):\n",
    "    \n",
    "# Each factor is scored out of 100 and weighted\n",
    "    \n",
    "    score = (\n",
    "        (payment_history * 0.35) +\n",
    "        (credit_utilization * 0.30) +\n",
    "        (credit_history_length * 0.15) +\n",
    "        (credit_mix * 0.10) +\n",
    "        (new_credit * 0.10)\n",
    "    )\n",
    "    \n",
    " # Scale the score to the common range (300 - 850)\n",
    "    \n",
    "    credit_score = int((score / 100) * 550 + 300)\n",
    "    return credit_score\n",
    "    \n",
    "# Example usage\n",
    "\n",
    "    score = calculate_credit_score(\n",
    "    payment_history=90,    # e.g., 90% on-time payments\n",
    "    credit_utilization=40, # 40% utilization\n",
    "    credit_history_length=70, # 7 years (scaled)\n",
    "    credit_mix=80,         # good mix\n",
    "    new_credit=60          # moderate new credit\n",
    ")\n",
    "\n",
    "print(\"Estimated Credit Score:\", score)\n",
    "\n"
   ]
  },
  {
   "cell_type": "code",
   "execution_count": null,
   "id": "e25fb8bc-600b-4185-b63a-4723dfe3b1c8",
   "metadata": {},
   "outputs": [],
   "source": []
  }
 ],
 "metadata": {
  "kernelspec": {
   "display_name": "Python 3 (ipykernel)",
   "language": "python",
   "name": "python3"
  },
  "language_info": {
   "codemirror_mode": {
    "name": "ipython",
    "version": 3
   },
   "file_extension": ".py",
   "mimetype": "text/x-python",
   "name": "python",
   "nbconvert_exporter": "python",
   "pygments_lexer": "ipython3",
   "version": "3.12.7"
  }
 },
 "nbformat": 4,
 "nbformat_minor": 5
}
